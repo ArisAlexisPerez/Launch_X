{
 "cells": [
  {
   "cell_type": "markdown",
   "metadata": {},
   "source": [
    "# Manual de la Nave"
   ]
  },
  {
   "cell_type": "code",
   "execution_count": 56,
   "metadata": {},
   "outputs": [
    {
     "data": {
      "application/vnd.jupyter.widget-view+json": {
       "model_id": "dea2785479bf46d2863975385d2bd116",
       "version_major": 2,
       "version_minor": 0
      },
      "text/plain": [
       "ToggleButton(value=False, button_style='success', description='  ¡Iniciar Viaje!', icon='rocket', tooltip='¡Ha…"
      ]
     },
     "metadata": {},
     "output_type": "display_data"
    },
    {
     "data": {
      "application/vnd.jupyter.widget-view+json": {
       "model_id": "1c556ab7e5a245548e541e2c8297d907",
       "version_major": 2,
       "version_minor": 0
      },
      "text/plain": [
       "Output()"
      ]
     },
     "metadata": {},
     "output_type": "display_data"
    }
   ],
   "source": [
    "# Utilizamos la biblioteca ipywidget para crear un botón\n",
    "import ipywidgets as widgets\n",
    "\n",
    "# Se crea la variable 'ignition' que contendra un boton del tipo: 'ToggleButton'\n",
    "ignition = widgets.ToggleButton (\n",
    "    # value = False, # Es el valor para la sombra del boton, ya que esta en False no es necesario asignar un valor ( Default = False )\n",
    "    description = '  ¡Iniciar Viaje!', # Mensaje contenido en el cuerpo del boton\n",
    "    button_style = 'Success', # Tipo de boton que puede ser > 'success', 'info', 'warning', 'danger' o ''\n",
    "    tooltip = '¡Haga clic en el boton e inicie su Lanzamiento!', # Es el mensaje que aparecera al acercar el cursor del mouse\n",
    "    icon = 'rocket' # Es el tipo de icono o figura que saldra en el boton que puede ser > 'rocket', 'home', 'refresh', 'close', 'arrow-up', etc\n",
    ")\n",
    "\n",
    "# Creacion de la variable output que contiene el resultado de la funcion Output() del boton\n",
    "output = widgets.Output()\n",
    "\n",
    "# Ejecucion de la funcion display que recibe 2 parametros (inicio, salida)\n",
    "display ( ignition, output )\n",
    "\n",
    "# Definicion de la funcion 'on_value_change' que mostrara un mensaje cuando se presione el boton\n",
    "def on_value_change ( change ) :\n",
    "    with output:\n",
    "        if change['new'] == True: # Se ejecuta al hacer clic por 1a vez\n",
    "            print(\"- ¡Nave Iniciada!\")\n",
    "            ignition.button_style = 'warning' # Se cambia el estilo del boton\n",
    "            ignition.description = ' ¡Detener Viaje!' # Se cambia el contenido del boton\n",
    "        else:   \n",
    "            print(\"- ¡Nave Detenida!\")\n",
    "            ignition.button_style = 'success' # Se regresa a su estado inicial\n",
    "            ignition.description = ' ¡Iniciar Viaje!' # Se regresa a su estado inicial\n",
    "\n",
    "# Ejecucion de la funcion 'observe' de la variable 'ignition' de tipo ToggleButton que ejecuta la funcion 'on_value_change'\n",
    "# Esta funcion esta observando todo el tiempo lo que ocurre con el boton cuando se hace clic\n",
    "ignition.observe ( on_value_change, names='value' )\n",
    "\n",
    "# Fin del programa"
   ]
  }
 ],
 "metadata": {
  "interpreter": {
   "hash": "08903520547b458736113f75677fd149bc896d939684ff5ee185cfdaaabec533"
  },
  "kernelspec": {
   "display_name": "Python 3.10.2 64-bit",
   "language": "python",
   "name": "python3"
  },
  "language_info": {
   "codemirror_mode": {
    "name": "ipython",
    "version": 3
   },
   "file_extension": ".py",
   "mimetype": "text/x-python",
   "name": "python",
   "nbconvert_exporter": "python",
   "pygments_lexer": "ipython3",
   "version": "3.10.2"
  },
  "orig_nbformat": 4
 },
 "nbformat": 4,
 "nbformat_minor": 2
}
